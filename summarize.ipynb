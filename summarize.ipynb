{
 "cells": [
  {
   "cell_type": "markdown",
   "metadata": {},
   "source": []
  },
  {
   "cell_type": "markdown",
   "metadata": {},
   "source": []
  },
  {
   "cell_type": "code",
   "execution_count": 1,
   "metadata": {},
   "outputs": [],
   "source": [
    "\n",
    "import os\n",
    "import csv\n",
    "from dotenv import load_dotenv\n",
    "import google.generativeai as genai"
   ]
  },
  {
   "cell_type": "code",
   "execution_count": 2,
   "metadata": {},
   "outputs": [],
   "source": [
    "load_dotenv(dotenv_path='C:/Users/pooja konduri/OneDrive/Desktop/BridgeLabs/GenAI_tasks/key.env')\n",
    "genai.configure(api_key=os.getenv('GEMINI_API_KEY'))"
   ]
  },
  {
   "cell_type": "code",
   "execution_count": 3,
   "metadata": {},
   "outputs": [],
   "source": [
    "model = genai.GenerativeModel(\n",
    "    model_name=\"gemini-1.5-flash\"\n",
    ")"
   ]
  },
  {
   "cell_type": "code",
   "execution_count": 4,
   "metadata": {},
   "outputs": [],
   "source": [
    "def read_emails(file_path,delimiter=\"--- End Email ---\"):\n",
    "    \"\"\"Reads emails from a file.\"\"\"\n",
    "    with open('C:/Users/pooja konduri/OneDrive/Desktop/BridgeLabs/GenAI_tasks/input/emails.txt', 'r') as file:\n",
    "        emails = file.read().split(delimiter)\n",
    "    return [email.strip() for email in emails if email.strip()]"
   ]
  },
  {
   "cell_type": "code",
   "execution_count": 6,
   "metadata": {},
   "outputs": [],
   "source": [
    "def extract_email_info(email):\n",
    "    \"\"\"Extracts sender, receiver, and body from an email.\"\"\"\n",
    "    lines = email.split(\"\\n\")\n",
    "    sender = receiver = body = subject = \"\"\n",
    "    \n",
    "    for line in lines:\n",
    "        if line.startswith(\"From:\"):\n",
    "            sender = line.split(\":\")[1].strip()\n",
    "        elif line.startswith(\"To:\"):\n",
    "            receiver = line.split(\":\")[1].strip()\n",
    "        elif line.startswith(\"Subject:\"):\n",
    "            subject = line.split(\":\")[1].strip()\n",
    "        elif not line.startswith(\"From:\") and not line.startswith(\"To:\") and not line.startswith(\"Subject:\"):\n",
    "            body += line.strip() + \" \"\n",
    "    \n",
    "    return sender, receiver, subject, body.strip()"
   ]
  },
  {
   "cell_type": "code",
   "execution_count": 7,
   "metadata": {},
   "outputs": [],
   "source": [
    "def summarize_email(body, chat_session):\n",
    "    \"\"\"Summarizes the email body using Gemini AI.\"\"\"\n",
    "    response = chat_session.send_message(f\"Summarize this email: {body}\")\n",
    "    return response.text"
   ]
  },
  {
   "cell_type": "code",
   "execution_count": 8,
   "metadata": {},
   "outputs": [],
   "source": [
    "def translate_email(text, chat_session):\n",
    "    \"\"\"Translates text to Hindi using Gemini AI.\"\"\"\n",
    "    \n",
    "    response = chat_session.send_message(f\"Translate the following text to Hindi: {text}\")\n",
    "    return response.text"
   ]
  },
  {
   "cell_type": "code",
   "execution_count": 9,
   "metadata": {},
   "outputs": [],
   "source": [
    "def save_to_csv(data, csv_file):\n",
    "    \"\"\"Saves data to a CSV file.\"\"\"\n",
    "    with open(csv_file, 'w', newline='', encoding='utf-8') as file:\n",
    "        writer = csv.writer(file)\n",
    "        writer.writerow([\"Sender\", \"Receiver\", \"Subject\", \"Summary (EN)\", \"Summary (HI)\"])\n",
    "        writer.writerows(data)"
   ]
  },
  {
   "cell_type": "code",
   "execution_count": 10,
   "metadata": {},
   "outputs": [],
   "source": [
    "def process_emails(file_path, csv_file, chat_session, delimiter=\"--- End Email ---\"):\n",
    "    \"\"\"\n",
    "    Processes the emails by extracting the information, summarizing, and translating them.\n",
    "    \n",
    "    Args:\n",
    "    - file_path: The path to the input file containing emails.\n",
    "    - csv_file: The path to the output CSV file.\n",
    "    - chat_session: The Gemini AI chat session.\n",
    "    \"\"\"\n",
    "    emails = read_emails(file_path, delimiter)\n",
    "    data = []\n",
    "\n",
    "    for email in emails:\n",
    "        sender, receiver, subject, body = extract_email_info(email)\n",
    "        summary_en = summarize_email(body, chat_session)\n",
    "        summary_hi = translate_email(summary_en, chat_session)\n",
    "        data.append([sender, receiver, subject, summary_en, summary_hi])\n",
    "    \n",
    "    save_to_csv(data, csv_file)"
   ]
  },
  {
   "cell_type": "code",
   "execution_count": 11,
   "metadata": {},
   "outputs": [],
   "source": [
    "def main():\n",
    "    # Start the chat session with the model\n",
    "    chat_session = model.start_chat(history=[])\n",
    "\n",
    "    # Process emails and save results to CSV\n",
    "    process_emails('emails.txt', 'processed_emails.csv', chat_session)\n",
    "\n",
    "if __name__ == '__main__':\n",
    "    main()"
   ]
  }
 ],
 "metadata": {
  "kernelspec": {
   "display_name": "Python 3",
   "language": "python",
   "name": "python3"
  },
  "language_info": {
   "codemirror_mode": {
    "name": "ipython",
    "version": 3
   },
   "file_extension": ".py",
   "mimetype": "text/x-python",
   "name": "python",
   "nbconvert_exporter": "python",
   "pygments_lexer": "ipython3",
   "version": "3.12.3"
  }
 },
 "nbformat": 4,
 "nbformat_minor": 2
}
