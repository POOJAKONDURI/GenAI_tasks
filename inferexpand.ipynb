{
 "cells": [
  {
   "cell_type": "markdown",
   "metadata": {},
   "source": [
    "@Author: Pooja\n",
    "@Date: 21-11-2024\n",
    "@Last Modified by: Pooja\n",
    "@Last Modified time: 21-11-2024\n",
    "@Title: Python program to perform Gen AI tasks Inferring and Expanding using Gemini API"
   ]
  },
  {
   "cell_type": "code",
   "execution_count": 13,
   "metadata": {},
   "outputs": [],
   "source": [
    "import os\n",
    "import csv\n",
    "from dotenv import load_dotenv\n",
    "import google.generativeai as genai"
   ]
  },
  {
   "cell_type": "markdown",
   "metadata": {},
   "source": [
    "Load environment variables"
   ]
  },
  {
   "cell_type": "code",
   "execution_count": 14,
   "metadata": {},
   "outputs": [],
   "source": [
    "load_dotenv(dotenv_path='C:/Users/pooja konduri/OneDrive/Desktop/BridgeLabs/GenAI_tasks/key.env')\n",
    "genai.configure(api_key=os.getenv('GEMINI_API_KEY'))"
   ]
  },
  {
   "cell_type": "code",
   "execution_count": null,
   "metadata": {},
   "outputs": [],
   "source": []
  },
  {
   "cell_type": "markdown",
   "metadata": {},
   "source": [
    "Configure Gemini AI"
   ]
  },
  {
   "cell_type": "code",
   "execution_count": 16,
   "metadata": {},
   "outputs": [],
   "source": [
    "model = genai.GenerativeModel(\n",
    "    model_name=\"gemini-1.5-flash\",\n",
    "    generation_config={\n",
    "        \"temperature\": 0.9,\n",
    "        \"top_p\": 0.95,\n",
    "        \"top_k\": 64,\n",
    "        \"max_output_tokens\": 8192,\n",
    "    },\n",
    ")"
   ]
  },
  {
   "cell_type": "markdown",
   "metadata": {},
   "source": [
    " Read reviews from the input file "
   ]
  },
  {
   "cell_type": "code",
   "execution_count": 17,
   "metadata": {},
   "outputs": [],
   "source": [
    "def read_reviews(file_path, delimiter=\"---END OF REVIEW---\"):\n",
    "    \"\"\"\n",
    "    Step 1: Read reviews from the input file split by the given delimiter.\n",
    "    \"\"\"\n",
    "    with open('C:/Users/pooja konduri/OneDrive/Desktop/BridgeLabs/GenAI_tasks/input/reviews.txt', 'r') as file:\n",
    "        return [review.strip() for review in file.read().split(delimiter) if review.strip()]"
   ]
  },
  {
   "cell_type": "markdown",
   "metadata": {},
   "source": [
    "Extract reviews"
   ]
  },
  {
   "cell_type": "code",
   "execution_count": 18,
   "metadata": {},
   "outputs": [],
   "source": [
    "def extract_product_and_review(review_text):\n",
    "    \"\"\"\n",
    "    Step 2: Extract product name and review content.\n",
    "    \"\"\"\n",
    "    lines = review_text.split(\"\\n\")\n",
    "    product = next((line.split(\":\")[1].strip() for line in lines if line.startswith(\"Product:\")), \"\")\n",
    "    review = next((line.split(\":\")[1].strip() for line in lines if line.startswith(\"Review:\")), \"\")\n",
    "    return product, review"
   ]
  },
  {
   "cell_type": "markdown",
   "metadata": {},
   "source": [
    " infer sentiment "
   ]
  },
  {
   "cell_type": "code",
   "execution_count": 19,
   "metadata": {},
   "outputs": [],
   "source": [
    "\n",
    "def infer_sentiment_and_themes(review, chat_session):\n",
    "    \"\"\"\n",
    "    Step 3: Use Gemini to infer sentiment and extract themes.\n",
    "    \"\"\"\n",
    "    sentiment = chat_session.send_message(f\"Determine the sentiment of this review: {review}\").text\n",
    "    themes = chat_session.send_message(f\"Identify key themes in this review: {review}\").text\n",
    "    return sentiment, themes\n"
   ]
  },
  {
   "cell_type": "markdown",
   "metadata": {},
   "source": [
    " expanded review using inferred insights"
   ]
  },
  {
   "cell_type": "code",
   "execution_count": 20,
   "metadata": {},
   "outputs": [],
   "source": [
    "\n",
    "def expand_review(review, sentiment, themes, chat_session):\n",
    "    \"\"\"\n",
    "    Step 4: Generate an expanded review using inferred insights.\n",
    "    \"\"\"\n",
    "    prompt = (\n",
    "        f\"Expand the following review using the given sentiment and themes:\\n\\n\"\n",
    "        f\"Review: {review}\\n\"\n",
    "        f\"Sentiment: {sentiment}\\n\"\n",
    "        f\"Themes: {themes}\"\n",
    "    )\n",
    "    return chat_session.send_message(prompt).text"
   ]
  },
  {
   "cell_type": "markdown",
   "metadata": {},
   "source": [
    " Process a single review to extract, infer, and expand."
   ]
  },
  {
   "cell_type": "code",
   "execution_count": 21,
   "metadata": {},
   "outputs": [],
   "source": [
    "def process_review(review_text, chat_session):\n",
    "    \"\"\"\n",
    "    Step 5: Process a single review to extract, infer, and expand.\n",
    "    \"\"\"\n",
    "    product, review = extract_product_and_review(review_text)\n",
    "    sentiment, themes = infer_sentiment_and_themes(review, chat_session)\n",
    "    expanded = expand_review(review, sentiment, themes, chat_session)\n",
    "    return product, review, sentiment, themes, expanded"
   ]
  },
  {
   "cell_type": "markdown",
   "metadata": {},
   "source": [
    "saving to csv file"
   ]
  },
  {
   "cell_type": "code",
   "execution_count": 22,
   "metadata": {},
   "outputs": [],
   "source": [
    "def save_reviews_to_csv(data, file_name):\n",
    "    \"\"\"\n",
    "    Step 6: Save processed reviews into a CSV file.\n",
    "    \"\"\"\n",
    "    with open(file_name, 'w', newline='', encoding='utf-8') as file:\n",
    "        writer = csv.writer(file)\n",
    "        writer.writerow([\"Product\", \"Original Review\", \"Sentiment\", \"Themes\", \"Expanded Review\"])\n",
    "        writer.writerows(data)"
   ]
  },
  {
   "cell_type": "code",
   "execution_count": 24,
   "metadata": {},
   "outputs": [],
   "source": [
    "def main():\n",
    "    # Initialize chat session\n",
    "    chat_session = model.start_chat()\n",
    "    \n",
    "    # Inferring and Expanding Pipeline\n",
    "    reviews = read_reviews('reviews.txt')[:3]   # Step 1\n",
    "    processed_data = [process_review(review, chat_session) for review in reviews]  # Steps 2-5\n",
    "    save_reviews_to_csv(processed_data, 'transformed_reviews.csv')  # Step 6\n",
    "\n",
    "if __name__ == '__main__':\n",
    "    main()"
   ]
  }
 ],
 "metadata": {
  "kernelspec": {
   "display_name": "Python 3",
   "language": "python",
   "name": "python3"
  },
  "language_info": {
   "codemirror_mode": {
    "name": "ipython",
    "version": 3
   },
   "file_extension": ".py",
   "mimetype": "text/x-python",
   "name": "python",
   "nbconvert_exporter": "python",
   "pygments_lexer": "ipython3",
   "version": "3.12.3"
  }
 },
 "nbformat": 4,
 "nbformat_minor": 2
}
